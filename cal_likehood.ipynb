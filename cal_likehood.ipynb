{
    "cells": [
        {
            "cell_type": "code",
            "execution_count": null,
            "source": [
                "import random\n",
                "import torch\n",
                "import utils\n",
                "from model_irse import IR_50, IR_101, IR_152\n",
                "import os\n",
                "from PIL import Image\n",
                "\n",
                "\n",
                "def init_model(model, param, device):\n",
                "    m = model([112, 112])\n",
                "    m.eval()\n",
                "    m.to(device)\n",
                "    m.load_state_dict(torch.load(param, map_location=torch.device('cuda:1')))\n",
                "    return m\n",
                "\n",
                "def get_model_pool(device):\n",
                "    model_pool = []\n",
                "    # double\n",
                "    model_pool.append(init_model(IR_50, 'models/backbone_ir50_ms1m_epoch120.pth', device))\n",
                "    model_pool.append(init_model(IR_50, 'models/backbone_ir50_ms1m_epoch120.pth', device))\n",
                "    \n",
                "    model_pool.append(init_model(IR_50, 'models/Backbone_IR_50_LFW.pth', device))\n",
                "    model_pool.append(init_model(IR_101, 'models/Backbone_IR_101_Batch_108320.pth', device))\n",
                "    model_pool.append(init_model(IR_152, 'models/Backbone_IR_152_MS1M_Epoch_112.pth', device))\n",
                "    return model_pool\n"
            ],
            "outputs": [],
            "metadata": {}
        },
        {
            "cell_type": "code",
            "execution_count": null,
            "source": [
                "path = \"images/\" #images/[index]/[index]_[index].jpg\n",
                "name = \"b2p\""
            ],
            "outputs": [],
            "metadata": {}
        },
        {
            "cell_type": "code",
            "execution_count": null,
            "source": [
                "device = torch.device('cuda')\n",
                "model_pool = get_model_pool(device)\n",
                "print('----models load over----')\n",
                "faces = os.listdir(path)\n",
                "\n",
                "vectors_list = []\n",
                "for model in model_pool:\n",
                "    vectors = []\n",
                "    torch.nn.DataParallel(model)\n",
                "    for facen in faces:\n",
                "        #for i in range(5):\n",
                "        try:\n",
                "            fn = '_0' + '.jpg'\n",
                "            face = utils.to_torch_tensor(Image.open(os.path.join(path, facen, fn)).convert('RGB'))\n",
                "            face_o = utils.to_torch_tensor(Image.open(os.path.join(path, facen, fn)).convert('RGB'))\n",
                "        except OSError:\n",
                "            continue\n",
                "        face = face.unsqueeze_(0).to(device)\n",
                "        vectors.append(utils.l2_norm(model(face)).detach_())\n",
                "    vectors_list.append(vectors)\n",
                "\n",
                "print('----vectors calculate over----')\n",
                "confusion_matrixes = []\n",
                "for vectors in vectors_list:\n",
                "    print(\"len(vectors)\", len(vectors))\n",
                "    s = torch.FloatTensor(len(vectors), len(vectors))\n",
                "    for i, vector1 in enumerate(vectors):\n",
                "        for j, vector2 in enumerate(vectors[i + 1:]):\n",
                "            tmp = (vector1 * vector2).sum().item()\n",
                "            s[i, j + i + 1] = tmp\n",
                "            s[j + i + 1, i] = tmp\n",
                "    print(\"len(vectors_list)\", len(vectors_list))\n",
                "    for i in range(len(vectors_list)):\n",
                "        s[i, i] = 0\n",
                "    confusion_matrixes.append(s)"
            ],
            "outputs": [],
            "metadata": {}
        },
        {
            "cell_type": "code",
            "execution_count": null,
            "source": [
                "confusion_matrix = confusion_matrixes[0].clone()\n",
                "for tmp in confusion_matrixes[1:]:\n",
                "    confusion_matrix += tmp"
            ],
            "outputs": [],
            "metadata": {}
        },
        {
            "cell_type": "code",
            "execution_count": null,
            "source": [
                "import json\n",
                "value1, index_like1 = torch.max(confusion_matrix, 1)\n",
                "for i, j in enumerate(index_like1):\n",
                "    confusion_matrix[i, j] = 0\n",
                "value2, index_like2 = torch.max(confusion_matrix, 1)\n",
                "for i, j in enumerate(index_like2):\n",
                "    confusion_matrix[i, j] = 0\n",
                "value3, index_like3 = torch.max(confusion_matrix, 1)\n",
                "a = {}\n",
                "for i, face in enumerate(faces):\n",
                "    try:\n",
                "        a[face] = [faces[index_like1[i]], value1[i].item()/5, faces[index_like2[i]], value2[i].item()/5, faces[index_like3[i]], value3[i].item()/5]\n",
                "    except IndexError:\n",
                "        break\n",
                "f = open(\"likelihood_\" + name + \".json\", \"w\")\n",
                "f.write(json.dumps(a))\n",
                "f.close()"
            ],
            "outputs": [],
            "metadata": {}
        }
    ],
    "metadata": {
        "orig_nbformat": 4,
        "language_info": {
            "name": "python",
            "version": "3.8.11",
            "mimetype": "text/x-python",
            "codemirror_mode": {
                "name": "ipython",
                "version": 3
            },
            "pygments_lexer": "ipython3",
            "nbconvert_exporter": "python",
            "file_extension": ".py"
        },
        "kernelspec": {
            "name": "python3",
            "display_name": "Python 3.8.11 64-bit ('tensorflow': conda)"
        },
        "interpreter": {
            "hash": "08bd320a3b3946fe819f1e5e3be2c7f91e2a3d962bed3e3ff33ab7f4cb9bc423"
        }
    },
    "nbformat": 4,
    "nbformat_minor": 2
}